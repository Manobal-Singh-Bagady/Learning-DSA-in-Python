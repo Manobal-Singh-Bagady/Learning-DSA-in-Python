{
 "cells": [
  {
   "cell_type": "code",
   "execution_count": 18,
   "metadata": {},
   "outputs": [
    {
     "data": {
      "text/plain": [
       "'lesser'"
      ]
     },
     "execution_count": 18,
     "metadata": {},
     "output_type": "execute_result"
    }
   ],
   "source": [
    "# GFG Question 3/455:\n",
    "class Solution:\n",
    "    def compareNM(self, n : int, m : int) -> str:\n",
    "        if n<m:\n",
    "            return 'lesser'\n",
    "        elif n==m:\n",
    "            return 'equal'\n",
    "        else:\n",
    "            return 'greater'\n",
    "    \n",
    "Solution().compareNM(1,2)"
   ]
  },
  {
   "cell_type": "markdown",
   "metadata": {},
   "source": [
    "# If Else in Python\n",
    "\n",
    "- Syntax of if statement:\n",
    "\n",
    "    ```py\n",
    "\n",
    "    #if syntax Python\n",
    "\n",
    "    if condition:\n",
    "    # Statements to execute if\n",
    "    # condition is true\n",
    "    ```"
   ]
  },
  {
   "cell_type": "code",
   "execution_count": 1,
   "metadata": {},
   "outputs": [
    {
     "name": "stdout",
     "output_type": "stream",
     "text": [
      "Hello\n"
     ]
    }
   ],
   "source": [
    "if 1==1:\n",
    "    print(\"Hello\")"
   ]
  },
  {
   "cell_type": "markdown",
   "metadata": {},
   "source": [
    "- Syntax of if If Else Statement:\n",
    "\n",
    "    ```py\n",
    "    if (condition):\n",
    "        # Executes this block if\n",
    "        # condition is true\n",
    "    else:\n",
    "        # Executes this block if\n",
    "        # condition is false\n",
    "    ```"
   ]
  },
  {
   "cell_type": "code",
   "execution_count": 2,
   "metadata": {},
   "outputs": [
    {
     "name": "stdout",
     "output_type": "stream",
     "text": [
      "i is greater than 15\n",
      "i'm in else Block\n",
      "i'm not in if and not in else Block\n"
     ]
    }
   ],
   "source": [
    "i = 20\n",
    "if (i < 15):\n",
    "    print(\"i is smaller than 15\")\n",
    "    print(\"i'm in if Block\")\n",
    "else:\n",
    "    print(\"i is greater than 15\")\n",
    "    print(\"i'm in else Block\")\n",
    "print(\"i'm not in if and not in else Block\")"
   ]
  },
  {
   "cell_type": "markdown",
   "metadata": {},
   "source": [
    "- Syntax of elif in python\n",
    "\n",
    "    ```py\n",
    "    if (condition):\n",
    "        statement\n",
    "    elif (condition):\n",
    "        statement\n",
    "    .\n",
    "    .\n",
    "    else:\n",
    "        statement\n",
    "    ```"
   ]
  },
  {
   "cell_type": "code",
   "execution_count": 4,
   "metadata": {},
   "outputs": [
    {
     "name": "stdout",
     "output_type": "stream",
     "text": [
      "i is 15\n"
     ]
    }
   ],
   "source": [
    "i = 15\n",
    "if (i == 10):\n",
    "    print(\"i is 10\")\n",
    "elif (i == 15):\n",
    "    print(\"i is 15\")\n",
    "elif (i == 20):\n",
    "    print(\"i is 20\")\n",
    "else:\n",
    "    print(\"i is not present\")"
   ]
  }
 ],
 "metadata": {
  "kernelspec": {
   "display_name": "Python 3",
   "language": "python",
   "name": "python3"
  },
  "language_info": {
   "codemirror_mode": {
    "name": "ipython",
    "version": 3
   },
   "file_extension": ".py",
   "mimetype": "text/x-python",
   "name": "python",
   "nbconvert_exporter": "python",
   "pygments_lexer": "ipython3",
   "version": "3.12.2"
  }
 },
 "nbformat": 4,
 "nbformat_minor": 2
}
