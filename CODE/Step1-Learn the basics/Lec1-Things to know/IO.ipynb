{
 "cells": [
  {
   "cell_type": "markdown",
   "metadata": {},
   "source": [
    "# User Input/Output\n",
    "---\n",
    "\n",
    "## <u>Python Input</u>\n",
    "\n",
    "### Syntax:"
   ]
  },
  {
   "cell_type": "code",
   "execution_count": 1,
   "metadata": {},
   "outputs": [
    {
     "data": {
      "text/plain": [
       "'1'"
      ]
     },
     "execution_count": 1,
     "metadata": {},
     "output_type": "execute_result"
    }
   ],
   "source": [
    "input('prompt')"
   ]
  },
  {
   "cell_type": "markdown",
   "metadata": {},
   "source": [
    "### Default input is string"
   ]
  },
  {
   "cell_type": "code",
   "execution_count": 2,
   "metadata": {},
   "outputs": [
    {
     "name": "stdout",
     "output_type": "stream",
     "text": [
      "123\n",
      "<class 'str'>\n"
     ]
    }
   ],
   "source": [
    "x = input(\"Enter a Number: \")\n",
    "print(x)\n",
    "print(type(x))"
   ]
  },
  {
   "cell_type": "markdown",
   "metadata": {},
   "source": [
    "### Need to convert string to desired type"
   ]
  },
  {
   "cell_type": "code",
   "execution_count": 3,
   "metadata": {},
   "outputs": [
    {
     "name": "stdout",
     "output_type": "stream",
     "text": [
      "1\n",
      "<class 'int'>\n"
     ]
    }
   ],
   "source": [
    "x = int( input(\"Enter a Number : \") )\n",
    "print(x)\n",
    "print(type(x))"
   ]
  },
  {
   "cell_type": "markdown",
   "metadata": {},
   "source": [
    "## How to take list input in python\n",
    "\n",
    "### <ul><li>taking input one by one</li></ul>"
   ]
  },
  {
   "cell_type": "code",
   "execution_count": 5,
   "metadata": {},
   "outputs": [
    {
     "name": "stdout",
     "output_type": "stream",
     "text": [
      "Enter the List elements\n",
      "[1, 2]\n"
     ]
    }
   ],
   "source": [
    "n = int(input(\"Enter the Number of elements in list : \"))\n",
    "List = list()\n",
    "print(\"Enter the List elements\")\n",
    "for i in range(0, n):\n",
    "    List.append(int(input()))\n",
    "print(List)"
   ]
  },
  {
   "cell_type": "markdown",
   "metadata": {},
   "source": [
    "### <ul><li>Using map() and list() functions</li></ul>"
   ]
  },
  {
   "cell_type": "code",
   "execution_count": 6,
   "metadata": {},
   "outputs": [
    {
     "name": "stdout",
     "output_type": "stream",
     "text": [
      "Enter the list elements \n",
      "List elements are : \n",
      "[1, 2, 3, 4]\n"
     ]
    }
   ],
   "source": [
    "print(\"Enter the list elements \")\n",
    "List = list(map(int, input().split()))\n",
    "print(\"List elements are : \")\n",
    "print(List) "
   ]
  },
  {
   "cell_type": "markdown",
   "metadata": {},
   "source": [
    "## <u>Python Output</u>"
   ]
  },
  {
   "cell_type": "markdown",
   "metadata": {},
   "source": [
    "- Python's in-built function print() is used to display the output to the screen.\n",
    "\n",
    "\n",
    "    ```py\n",
    "    print(object(s), sep=’ ‘ ,end = ‘\\n’, file = file, flush = flush) \n",
    "    ```\n",
    "\n",
    "<figure class=\"wp-block-table\"><table><tbody><tr><td><strong>parameter</strong></td><td><strong>Description</strong></td></tr><tr><td><strong>object(s)&nbsp;</strong></td><td>Any object, and as many as you like. Will be converted to a string before printed</td></tr><tr><td><strong>sep&nbsp;</strong></td><td>(Optional). Specify how to separate the objects, if there is more than one. Default is ' '.</td></tr><tr><td><strong>end</strong></td><td>(Optional). Specify what to print at the end. Default is '\\n'.</td></tr><tr><td><strong>file</strong></td><td>(Optional). An object with a write method. Default is sys. stdout</td></tr><tr><td><strong>flush</strong></td><td>(Optional). A Boolean specifies if the output is flushed (True) or buffered (False). Default is False</td></tr></tbody></table></figure>"
   ]
  },
  {
   "cell_type": "markdown",
   "metadata": {},
   "source": [
    "### print with default seperator and end:"
   ]
  },
  {
   "cell_type": "code",
   "execution_count": 17,
   "metadata": {},
   "outputs": [
    {
     "name": "stdout",
     "output_type": "stream",
     "text": [
      "This article belongs to Takeuforward\n",
      "tuf striver India\n"
     ]
    }
   ],
   "source": [
    "print(\"This article belongs to Takeuforward\")\n",
    "print(\"tuf\", \"striver\", \"India\")"
   ]
  },
  {
   "cell_type": "markdown",
   "metadata": {},
   "source": [
    "### Print with Custom Separator and end :"
   ]
  },
  {
   "cell_type": "code",
   "execution_count": 18,
   "metadata": {},
   "outputs": [
    {
     "name": "stdout",
     "output_type": "stream",
     "text": [
      "This article belongs to Takeuforwad / striver & tuf & India\n"
     ]
    }
   ],
   "source": [
    "print(\"This article belongs to Takeuforwad\", end=\" / \")\n",
    "print(\"striver\", \"tuf\", \"India\", sep=\" & \")"
   ]
  },
  {
   "cell_type": "markdown",
   "metadata": {},
   "source": [
    "## <u>Python Import</u>"
   ]
  },
  {
   "cell_type": "markdown",
   "metadata": {},
   "source": [
    "- Import is used to import the modules into the python interpreter."
   ]
  },
  {
   "cell_type": "code",
   "execution_count": 19,
   "metadata": {},
   "outputs": [
    {
     "name": "stdout",
     "output_type": "stream",
     "text": [
      "Factorial of 5 is: 120\n",
      "Gcd of 100 and 24 is: 4\n"
     ]
    }
   ],
   "source": [
    "import math\n",
    "print(\"Factorial of 5 is: \", end=\"\")\n",
    "print(math.factorial(5))\n",
    "print(\"Gcd of 100 and 24 is: \", end=\"\")\n",
    "print(math.gcd(100, 24))"
   ]
  },
  {
   "cell_type": "markdown",
   "metadata": {},
   "source": [
    "- Importing specific attributes & functions only using \"from\" keyword"
   ]
  },
  {
   "cell_type": "code",
   "execution_count": 20,
   "metadata": {},
   "outputs": [
    {
     "name": "stdout",
     "output_type": "stream",
     "text": [
      "Factorial of 5 is : 120\n",
      "Gcd of 100 and 24 is : 4\n"
     ]
    }
   ],
   "source": [
    "from math import factorial, gcd\n",
    "print(\"Factorial of 5 is : \", end=\"\")\n",
    "print(factorial(5))\n",
    "print(\"Gcd of 100 and 24 is : \", end=\"\")\n",
    "print(gcd(100, 24))"
   ]
  },
  {
   "cell_type": "markdown",
   "metadata": {},
   "source": [
    "- Importing with alternative name using \"as\" keyword"
   ]
  },
  {
   "cell_type": "code",
   "execution_count": 21,
   "metadata": {},
   "outputs": [
    {
     "name": "stdout",
     "output_type": "stream",
     "text": [
      "Factorial of 5 is : 120\n",
      "Gcd of 100 and 24 is : 4\n"
     ]
    }
   ],
   "source": [
    "import math as m\n",
    "print(\"Factorial of 5 is : \", end=\"\")\n",
    "print(m.factorial(5))\n",
    "print(\"Gcd of 100 and 24 is : \", end=\"\")\n",
    "print(m.gcd(100, 24)) "
   ]
  }
 ],
 "metadata": {
  "kernelspec": {
   "display_name": "Python 3",
   "language": "python",
   "name": "python3"
  },
  "language_info": {
   "codemirror_mode": {
    "name": "ipython",
    "version": 3
   },
   "file_extension": ".py",
   "mimetype": "text/x-python",
   "name": "python",
   "nbconvert_exporter": "python",
   "pygments_lexer": "ipython3",
   "version": "3.12.2"
  }
 },
 "nbformat": 4,
 "nbformat_minor": 2
}
