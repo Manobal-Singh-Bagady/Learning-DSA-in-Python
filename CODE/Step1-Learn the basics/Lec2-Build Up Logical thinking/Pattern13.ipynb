{
 "cells": [
  {
   "cell_type": "markdown",
   "metadata": {},
   "source": [
    "# Pattern 13\n",
    "\n",
    "- pattern:\n",
    "\n",
    "    ```text  \n",
    "    n=3\n",
    "    1\n",
    "    2 3\n",
    "    4 5 6\n",
    "    ```"
   ]
  },
  {
   "cell_type": "code",
   "execution_count": 3,
   "metadata": {},
   "outputs": [
    {
     "name": "stdout",
     "output_type": "stream",
     "text": [
      "1 \n",
      "2 3 \n",
      "4 5 6 \n",
      "7 8 9 10 \n",
      "11 12 13 14 15 \n"
     ]
    }
   ],
   "source": [
    "# Pattern 13\n",
    "def nNumberTriangle(n: int) -> None:\n",
    "    num = 1\n",
    "    for i in range(n):\n",
    "        for _ in range(i+1):\n",
    "            print(num, end=' ')\n",
    "            num+=1\n",
    "        print()\n",
    "\n",
    "\n",
    "nNumberTriangle(5)"
   ]
  }
 ],
 "metadata": {
  "kernelspec": {
   "display_name": "Python 3",
   "language": "python",
   "name": "python3"
  },
  "language_info": {
   "codemirror_mode": {
    "name": "ipython",
    "version": 3
   },
   "file_extension": ".py",
   "mimetype": "text/x-python",
   "name": "python",
   "nbconvert_exporter": "python",
   "pygments_lexer": "ipython3",
   "version": "3.12.2"
  }
 },
 "nbformat": 4,
 "nbformat_minor": 2
}
