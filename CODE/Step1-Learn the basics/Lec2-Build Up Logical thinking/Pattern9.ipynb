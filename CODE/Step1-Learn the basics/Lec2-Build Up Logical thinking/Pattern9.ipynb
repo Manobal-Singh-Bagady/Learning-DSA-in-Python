{
 "cells": [
  {
   "cell_type": "markdown",
   "metadata": {},
   "source": [
    "# Pattern 9 - Diamond\n",
    "\n",
    "- pattern:\n",
    "\n",
    "    ```text\n",
    "    n=3\n",
    "      *\n",
    "     ***\n",
    "    *****\n",
    "    *****\n",
    "     ***\n",
    "      *\n",
    "    ```"
   ]
  },
  {
   "cell_type": "code",
   "execution_count": 1,
   "metadata": {},
   "outputs": [
    {
     "name": "stdout",
     "output_type": "stream",
     "text": [
      "    *\n",
      "   ***\n",
      "  *****\n",
      " *******\n",
      "*********\n",
      " *******\n",
      "  *****\n",
      "   ***\n",
      "    *\n"
     ]
    }
   ],
   "source": [
    "# Pattern 9\n",
    "def nStarDiamond(n: int) -> None:\n",
    "    for i in range(n):\n",
    "        for _ in range(n - i - 1):\n",
    "            print(\" \", end=\"\")\n",
    "        for _ in range(2 * i + 1):\n",
    "            print(\"*\", end=\"\")\n",
    "        print()\n",
    "    for i in range(n - 2, -1, -1):\n",
    "        for _ in range(n - i - 1):\n",
    "            print(\" \", end=\"\")\n",
    "        for _ in range(2 * i + 1):\n",
    "            print(\"*\", end=\"\")\n",
    "        print()\n",
    "\n",
    "\n",
    "nStarDiamond(5)"
   ]
  },
  {
   "cell_type": "markdown",
   "metadata": {},
   "source": [
    "- Python Specific Solution:"
   ]
  },
  {
   "cell_type": "code",
   "execution_count": 4,
   "metadata": {},
   "outputs": [
    {
     "name": "stdout",
     "output_type": "stream",
     "text": [
      "    *\n",
      "   ***\n",
      "  *****\n",
      " *******\n",
      "*********\n",
      "*********\n",
      " *******\n",
      "  *****\n",
      "   ***\n",
      "    *\n"
     ]
    }
   ],
   "source": [
    "# Pattern 9\n",
    "def nStarDiamond(n: int) -> None:\n",
    "    print(*[\" \" * (n - i - 1) + (2 * i + 1) * \"*\" for i in range(n)], sep=\"\\n\")\n",
    "    print(\n",
    "        *[\" \" * (n - 1 - i) + \"*\" * (2 * i + 1) for i in range(n - 1, -1, -1)], sep=\"\\n\"\n",
    "    )\n",
    "\n",
    "\n",
    "nStarDiamond(5)"
   ]
  }
 ],
 "metadata": {
  "kernelspec": {
   "display_name": "Python 3",
   "language": "python",
   "name": "python3"
  },
  "language_info": {
   "codemirror_mode": {
    "name": "ipython",
    "version": 3
   },
   "file_extension": ".py",
   "mimetype": "text/x-python",
   "name": "python",
   "nbconvert_exporter": "python",
   "pygments_lexer": "ipython3",
   "version": "3.12.2"
  }
 },
 "nbformat": 4,
 "nbformat_minor": 2
}
