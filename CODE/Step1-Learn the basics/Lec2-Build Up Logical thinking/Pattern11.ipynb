{
 "cells": [
  {
   "cell_type": "markdown",
   "metadata": {},
   "source": [
    "# Pattern 11\n",
    "\n",
    "- pattern:\n",
    "\n",
    "    ```text  \n",
    "    n=3\n",
    "    1\n",
    "    0 1\n",
    "    1 0 1\n",
    "    ```"
   ]
  },
  {
   "cell_type": "code",
   "execution_count": 3,
   "metadata": {},
   "outputs": [
    {
     "name": "stdout",
     "output_type": "stream",
     "text": [
      "1 \n",
      "0 1 \n",
      "1 0 1 \n",
      "0 1 0 1 \n",
      "1 0 1 0 1 \n"
     ]
    }
   ],
   "source": [
    "# Pattern 11\n",
    "def nBinaryTriangle(n: int) -> None:\n",
    "    for i in range(n):\n",
    "        str = 1 if i%2==0 else 0\n",
    "        for j in range(i+1):\n",
    "            print(str, end=' ')\n",
    "            str^=1\n",
    "        print()\n",
    "\n",
    "\n",
    "nBinaryTriangle(5)"
   ]
  }
 ],
 "metadata": {
  "kernelspec": {
   "display_name": "Python 3",
   "language": "python",
   "name": "python3"
  },
  "language_info": {
   "codemirror_mode": {
    "name": "ipython",
    "version": 3
   },
   "file_extension": ".py",
   "mimetype": "text/x-python",
   "name": "python",
   "nbconvert_exporter": "python",
   "pygments_lexer": "ipython3",
   "version": "3.12.2"
  }
 },
 "nbformat": 4,
 "nbformat_minor": 2
}
