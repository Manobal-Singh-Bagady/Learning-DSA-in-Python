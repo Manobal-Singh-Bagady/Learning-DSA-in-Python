{
 "cells": [
  {
   "cell_type": "markdown",
   "metadata": {},
   "source": [
    "# Pattern 10\n",
    "\n",
    "- pattern:\n",
    "\n",
    "    ```text\n",
    "    n=3   \n",
    "    *\n",
    "    **\n",
    "    ***\n",
    "    **\n",
    "    *\n",
    "    ```"
   ]
  },
  {
   "cell_type": "code",
   "execution_count": 1,
   "metadata": {},
   "outputs": [
    {
     "name": "stdout",
     "output_type": "stream",
     "text": [
      "*\n",
      "**\n",
      "***\n",
      "****\n",
      "*****\n",
      "****\n",
      "***\n",
      "**\n",
      "*\n",
      "\n"
     ]
    }
   ],
   "source": [
    "# Pattern 10\n",
    "def nStarTriangle(n: int) -> None:\n",
    "    for i in range(1, n + 1):\n",
    "        print(\"*\" * i)\n",
    "    for i in range(n - 1, -1, -1):\n",
    "        print(\"*\" * i)\n",
    "\n",
    "\n",
    "nStarTriangle(5)"
   ]
  },
  {
   "cell_type": "markdown",
   "metadata": {},
   "source": [
    "- Python Specific Solution"
   ]
  },
  {
   "cell_type": "code",
   "execution_count": 2,
   "metadata": {},
   "outputs": [
    {
     "name": "stdout",
     "output_type": "stream",
     "text": [
      "*\n",
      "**\n",
      "***\n",
      "****\n",
      "*****\n",
      "****\n",
      "***\n",
      "**\n",
      "*\n",
      "\n"
     ]
    }
   ],
   "source": [
    "# Pattern 10\n",
    "def nStarTriangle(n: int) -> None:\n",
    "    print(\n",
    "        *([\"*\" * i for i in range(1, n + 1)] + [\"*\" * i for i in range(n - 1, -1, -1)]),\n",
    "        sep=\"\\n\"\n",
    "    )\n",
    "\n",
    "\n",
    "nStarTriangle(5)"
   ]
  }
 ],
 "metadata": {
  "kernelspec": {
   "display_name": "Python 3",
   "language": "python",
   "name": "python3"
  },
  "language_info": {
   "codemirror_mode": {
    "name": "ipython",
    "version": 3
   },
   "file_extension": ".py",
   "mimetype": "text/x-python",
   "name": "python",
   "nbconvert_exporter": "python",
   "pygments_lexer": "ipython3",
   "version": "3.12.2"
  }
 },
 "nbformat": 4,
 "nbformat_minor": 2
}
