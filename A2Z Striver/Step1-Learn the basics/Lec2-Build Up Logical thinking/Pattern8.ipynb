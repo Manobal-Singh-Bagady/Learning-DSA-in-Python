{
 "cells": [
  {
   "cell_type": "markdown",
   "metadata": {},
   "source": [
    "# Pattern 8\n",
    "\n",
    "- pattern:\n",
    "\n",
    "    ```text\n",
    "    n=5\n",
    "    *********\n",
    "     *******\n",
    "      *****\n",
    "       ***\n",
    "        *\n",
    "    ```"
   ]
  },
  {
   "cell_type": "code",
   "execution_count": 4,
   "metadata": {},
   "outputs": [
    {
     "name": "stdout",
     "output_type": "stream",
     "text": [
      "*********\n",
      " *******\n",
      "  *****\n",
      "   ***\n",
      "    *\n"
     ]
    }
   ],
   "source": [
    "# Pattern 8\n",
    "class Solution:\n",
    "    def printTriangle(self, N):\n",
    "        for i in range(N - 1, -1, -1):\n",
    "            for _ in range(N - 1 - i):\n",
    "                print(\" \", end=\"\")\n",
    "            for _ in range(2 * i + 1):\n",
    "                print(\"*\", end=\"\")\n",
    "            print()\n",
    "\n",
    "\n",
    "Solution().printTriangle(5)"
   ]
  },
  {
   "cell_type": "markdown",
   "metadata": {},
   "source": [
    "- Python Specific Solution:"
   ]
  },
  {
   "cell_type": "code",
   "execution_count": 5,
   "metadata": {},
   "outputs": [
    {
     "name": "stdout",
     "output_type": "stream",
     "text": [
      "*********\n",
      " *******\n",
      "  *****\n",
      "   ***\n",
      "    *\n"
     ]
    }
   ],
   "source": [
    "# Pattern 8\n",
    "class Solution:\n",
    "    def printTriangle(self, N):\n",
    "        print(\n",
    "            *[\" \" * (N - i - 1) + \"*\" * (2 * i + 1) for i in range(N - 1, -1, -1)],\n",
    "            sep=\"\\n\"\n",
    "        )\n",
    "\n",
    "\n",
    "Solution().printTriangle(5)"
   ]
  }
 ],
 "metadata": {
  "kernelspec": {
   "display_name": "Python 3",
   "language": "python",
   "name": "python3"
  },
  "language_info": {
   "codemirror_mode": {
    "name": "ipython",
    "version": 3
   },
   "file_extension": ".py",
   "mimetype": "text/x-python",
   "name": "python",
   "nbconvert_exporter": "python",
   "pygments_lexer": "ipython3",
   "version": "3.12.2"
  }
 },
 "nbformat": 4,
 "nbformat_minor": 2
}
