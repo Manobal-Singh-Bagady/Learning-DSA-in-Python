{
 "cells": [
  {
   "cell_type": "markdown",
   "metadata": {},
   "source": [
    "# Pattern 14\n",
    "\n",
    "- pattern:\n",
    "\n",
    "    ```text  \n",
    "    n=3\n",
    "    1\n",
    "    0 1\n",
    "    1 0 1\n",
    "    ```"
   ]
  },
  {
   "cell_type": "code",
   "execution_count": null,
   "metadata": {
    "vscode": {
     "languageId": "plaintext"
    }
   },
   "outputs": [],
   "source": []
  }
 ],
 "metadata": {
  "language_info": {
   "name": "python"
  }
 },
 "nbformat": 4,
 "nbformat_minor": 2
}
