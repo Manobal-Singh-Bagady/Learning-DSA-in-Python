{
 "cells": [
  {
   "cell_type": "markdown",
   "metadata": {},
   "source": [
    "# Pattern 4\n",
    "\n",
    "- pattern:\n",
    "\n",
    "    ```text\n",
    "    n=5\n",
    "    1\n",
    "    2 2 \n",
    "    3 3 3 \n",
    "    4 4 4 4 \n",
    "    5 5 5 5 5\n",
    "    ```"
   ]
  },
  {
   "cell_type": "code",
   "execution_count": 1,
   "metadata": {},
   "outputs": [
    {
     "name": "stdout",
     "output_type": "stream",
     "text": [
      "1 \n",
      "2 2 \n",
      "3 3 3 \n",
      "4 4 4 4 \n",
      "5 5 5 5 5 \n"
     ]
    }
   ],
   "source": [
    "# Pattern 4\n",
    "class Solution:\n",
    "    def printTriangle(self, N):\n",
    "        for i in range(1, N + 1):\n",
    "            for _ in range(1, i + 1):\n",
    "                print(i, end=\" \")\n",
    "            print()\n",
    "\n",
    "\n",
    "Solution().printTriangle(5)"
   ]
  },
  {
   "cell_type": "markdown",
   "metadata": {},
   "source": [
    "- python specific"
   ]
  },
  {
   "cell_type": "code",
   "execution_count": 1,
   "metadata": {},
   "outputs": [
    {
     "name": "stdout",
     "output_type": "stream",
     "text": [
      "1\n",
      "1 2\n",
      "1 2 3\n",
      "1 2 3 4\n",
      "1 2 3 4 5\n"
     ]
    }
   ],
   "source": [
    "# Pattern 4\n",
    "class Solution:\n",
    "    def printTriangle(self, N):\n",
    "        print(*[\" \".join(map(str, range(1, i + 1))) for i in range(1, N + 1)], sep=\"\\n\")\n",
    "\n",
    "\n",
    "Solution().printTriangle(5)"
   ]
  }
 ],
 "metadata": {
  "kernelspec": {
   "display_name": "Python 3",
   "language": "python",
   "name": "python3"
  },
  "language_info": {
   "codemirror_mode": {
    "name": "ipython",
    "version": 3
   },
   "file_extension": ".py",
   "mimetype": "text/x-python",
   "name": "python",
   "nbconvert_exporter": "python",
   "pygments_lexer": "ipython3",
   "version": "3.12.2"
  }
 },
 "nbformat": 4,
 "nbformat_minor": 2
}
