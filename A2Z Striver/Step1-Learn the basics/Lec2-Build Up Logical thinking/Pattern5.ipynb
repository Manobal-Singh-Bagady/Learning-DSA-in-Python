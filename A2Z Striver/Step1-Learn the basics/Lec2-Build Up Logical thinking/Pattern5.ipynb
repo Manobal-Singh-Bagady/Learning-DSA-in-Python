{
 "cells": [
  {
   "cell_type": "markdown",
   "metadata": {},
   "source": [
    "# Pattern 5\n",
    "\n",
    "- pattern:\n",
    "\n",
    "    ```text\n",
    "    n=5\n",
    "    * * * * *\n",
    "    * * * * \n",
    "    * * * \n",
    "    * *  \n",
    "    * \n",
    "    ```"
   ]
  },
  {
   "cell_type": "code",
   "execution_count": 1,
   "metadata": {},
   "outputs": [
    {
     "name": "stdout",
     "output_type": "stream",
     "text": [
      "* * * * * \n",
      "* * * * \n",
      "* * * \n",
      "* * \n",
      "* \n"
     ]
    }
   ],
   "source": [
    "# Pattern 5\n",
    "class Solution:\n",
    "    def printTriangle(self, N):\n",
    "        for i in range(N, 0, -1):\n",
    "            for _ in range(i):\n",
    "                print(\"*\", end=\" \")\n",
    "            print()\n",
    "\n",
    "\n",
    "Solution().printTriangle(5)"
   ]
  },
  {
   "cell_type": "markdown",
   "metadata": {},
   "source": [
    "- python specific solution"
   ]
  },
  {
   "cell_type": "code",
   "execution_count": 2,
   "metadata": {},
   "outputs": [
    {
     "name": "stdout",
     "output_type": "stream",
     "text": [
      "* * * * * \n",
      "* * * * \n",
      "* * * \n",
      "* * \n",
      "* \n"
     ]
    }
   ],
   "source": [
    "# Pattern 5\n",
    "class Solution:\n",
    "    def printTriangle(self, N):\n",
    "        print(*[(\"* \" * i) for i in range(N, 0, -1)], sep=\"\\n\")\n",
    "\n",
    "\n",
    "Solution().printTriangle(5)"
   ]
  }
 ],
 "metadata": {
  "kernelspec": {
   "display_name": "Python 3",
   "language": "python",
   "name": "python3"
  },
  "language_info": {
   "codemirror_mode": {
    "name": "ipython",
    "version": 3
   },
   "file_extension": ".py",
   "mimetype": "text/x-python",
   "name": "python",
   "nbconvert_exporter": "python",
   "pygments_lexer": "ipython3",
   "version": "3.12.2"
  }
 },
 "nbformat": 4,
 "nbformat_minor": 2
}
