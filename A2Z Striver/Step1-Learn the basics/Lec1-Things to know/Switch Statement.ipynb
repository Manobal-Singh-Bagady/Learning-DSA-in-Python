{
 "cells": [
  {
   "cell_type": "code",
   "execution_count": 7,
   "metadata": {},
   "outputs": [
    {
     "data": {
      "text/plain": [
       "78.53981633974483"
      ]
     },
     "execution_count": 7,
     "metadata": {},
     "output_type": "execute_result"
    }
   ],
   "source": [
    "# GFG question 4/455\n",
    "\n",
    "import math\n",
    "class Solution:\n",
    "    def switchCase(self, choice, arr):\n",
    "        if choice==1:\n",
    "            return math.pi*(arr[0]**2)\n",
    "        elif choice==2:\n",
    "            return arr[0]*arr[1]\n",
    "        \n",
    "Solution().switchCase(1, [5])"
   ]
  },
  {
   "cell_type": "markdown",
   "metadata": {},
   "source": [
    "# Switch Case in Python\n",
    "\n",
    "- ⭐ Only in version>3.10"
   ]
  },
  {
   "cell_type": "code",
   "execution_count": 4,
   "metadata": {},
   "outputs": [
    {
     "name": "stdout",
     "output_type": "stream",
     "text": [
      "two\n"
     ]
    }
   ],
   "source": [
    "x = 2;\n",
    "match x:\n",
    "    case 1:\n",
    "        print(\"one\")\n",
    "    case 2:\n",
    "        print(\"two\")\n",
    "    case _:\n",
    "        print(\"other\")"
   ]
  }
 ],
 "metadata": {
  "kernelspec": {
   "display_name": "Python 3",
   "language": "python",
   "name": "python3"
  },
  "language_info": {
   "codemirror_mode": {
    "name": "ipython",
    "version": 3
   },
   "file_extension": ".py",
   "mimetype": "text/x-python",
   "name": "python",
   "nbconvert_exporter": "python",
   "pygments_lexer": "ipython3",
   "version": "3.12.2"
  }
 },
 "nbformat": 4,
 "nbformat_minor": 2
}
